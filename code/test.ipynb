{
 "cells": [
  {
   "cell_type": "markdown",
   "metadata": {},
   "source": [
    "# Local Search Heuristic for TSP"
   ]
  },
  {
   "cell_type": "markdown",
   "metadata": {},
   "source": [
    "## Initialization of the TSP instance"
   ]
  },
  {
   "cell_type": "code",
   "execution_count": null,
   "metadata": {},
   "outputs": [],
   "source": [
    "# Importing of the needed libraries\n",
    "from localsearch import *\n",
    "\n",
    "# Instance of TSPloader class used to load the .tsp file into a suitable data-structure\n",
    "# loader = TSPloader(r'..\\\\data\\\\xqf131.tsp')\n",
    "generator = TSPgenerator(50)\n",
    "\n",
    "# Instance of TSP class to which we pass the nodes of the .tsp file\n",
    "t = TSP(generator.nodes)\n",
    "\n",
    "# Plotting the initial data\n",
    "t.plotData()"
   ]
  },
  {
   "cell_type": "code",
   "execution_count": null,
   "metadata": {},
   "outputs": [],
   "source": [
    "# path = [0, 1, 2, 5, 6, 3, 7, 4, 0]\n",
    "# i, j, k = 2,4,6\n",
    "\n",
    "# A, B, C, D, E, F =  path[i], path[i+1],\\\n",
    "#                     path[j], path[j+1],\\\n",
    "#                     path[k], path[k+1]\n",
    "# dAB, dAC, dAD = t.dist_mat[A,B], t.dist_mat[A,C], t.dist_mat[A,D] \n",
    "# dAE, dBD, dBE = t.dist_mat[A,E], t.dist_mat[B,D], t.dist_mat[B,E]\n",
    "# dBF, dEF, dCD = t.dist_mat[B,F], t.dist_mat[E,F], t.dist_mat[C,D]\n",
    "# dCE, dCF, dDF = t.dist_mat[C,E], t.dist_mat[C,F], t.dist_mat[D,F]\n",
    "        \n",
    "# d = [0]*8 # distances\n",
    "# d[0] = dAB + dCD + dEF\n",
    "# d[1] = dAE + dCD + dBF\n",
    "# d[2] = dAB + dCE + dDF\n",
    "# d[3] = dAC + dBD + dEF\n",
    "# d[4] = dAC + dBE + dDF\n",
    "# d[5] = dAE + dBD + dCF\n",
    "# d[6] = dAD + dCE + dBF\n",
    "# d[7] = dAD + dBE + dCF\n",
    "# (np.argmin(d), d[0]-min(d))"
   ]
  },
  {
   "cell_type": "code",
   "execution_count": null,
   "metadata": {},
   "outputs": [],
   "source": [
    "# path[i+1:j+1] = reversed(path[i+1:j+1])\n",
    "# path\n",
    "# def swap(i, j, L):\n",
    "#     L[i:j+1] = reversed(L[i:j+1])\n",
    "#     return L\n",
    "# i, j, k = 0, 3, 6\n",
    "# L = ['A','B','..1..','C','D','..2..','E','F','..3..','A']\n",
    "# L = swap(i+1,k,L)\n",
    "# L = swap(i+1,j,L)\n",
    "# L = swap(j+1,k,L)\n",
    "# L"
   ]
  },
  {
   "cell_type": "markdown",
   "metadata": {},
   "source": [
    "## Nearest Neighbour"
   ]
  },
  {
   "cell_type": "code",
   "execution_count": null,
   "metadata": {
    "tags": []
   },
   "outputs": [],
   "source": [
    "NN = NearestNeighbour()\n",
    "t.solve(NN)\n",
    "t.plotSolution('NearestNeighbour')\n",
    "print('NN cost: ', t.getCost('NearestNeighbour'))"
   ]
  },
  {
   "cell_type": "markdown",
   "metadata": {},
   "source": [
    "## Randomized Nearest Neighbour"
   ]
  },
  {
   "cell_type": "code",
   "execution_count": null,
   "metadata": {
    "tags": []
   },
   "outputs": [],
   "source": [
    "RNN = RandomizedNearestNeighbour()\n",
    "t.solve(RNN)\n",
    "t.plotSolution('RandomizedNearestNeighbour')\n",
    "print('RNN cost: ', t.getCost('RandomizedNearestNeighbour'))"
   ]
  },
  {
   "cell_type": "markdown",
   "metadata": {},
   "source": [
    "## Nearest Neighbour + 2-opt"
   ]
  },
  {
   "cell_type": "code",
   "execution_count": null,
   "metadata": {
    "tags": []
   },
   "outputs": [],
   "source": [
    "NN2Opt = NN2Opt()\n",
    "t.solve(NN2Opt)\n",
    "t.plotSolution('NN2Opt')\n",
    "print('NN2Opt cost: ', t.getCost('NN2Opt'))"
   ]
  },
  {
   "cell_type": "markdown",
   "metadata": {},
   "source": [
    "## Randomized Nearest Neighbour + 2-opt"
   ]
  },
  {
   "cell_type": "code",
   "execution_count": null,
   "metadata": {
    "tags": []
   },
   "outputs": [],
   "source": [
    "RNN2Opt = RNN2Opt()\n",
    "t.solve(RNN2Opt)\n",
    "t.plotSolution('RNN2Opt')\n",
    "print('RNN2Opt cost: ', t.getCost('RNN2Opt'))"
   ]
  },
  {
   "cell_type": "markdown",
   "metadata": {},
   "source": [
    "## Nearest Neighbour + 2-opt + DLB"
   ]
  },
  {
   "cell_type": "code",
   "execution_count": null,
   "metadata": {
    "tags": []
   },
   "outputs": [],
   "source": [
    "NN2OptDLB = NN2OptDLB()\n",
    "t.solve(NN2OptDLB)\n",
    "t.plotSolution('NN2OptDLB')\n",
    "print('NN2OptDLB cost: ', t.getCost('NN2OptDLB'))"
   ]
  },
  {
   "cell_type": "markdown",
   "metadata": {},
   "source": [
    "## Randomized Nearest Neighbour + 2-opt + DLB"
   ]
  },
  {
   "cell_type": "code",
   "execution_count": null,
   "metadata": {
    "tags": []
   },
   "outputs": [],
   "source": [
    "RNN2OptDLB = RNN2OptDLB()\n",
    "t.solve(RNN2OptDLB)\n",
    "t.plotSolution('RNN2OptDLB')\n",
    "print('RNN2OptDLB cost: ', t.getCost('RNN2OptDLB'))"
   ]
  },
  {
   "cell_type": "markdown",
   "metadata": {},
   "source": [
    "## Nearest Neighbour + 3-opt"
   ]
  },
  {
   "cell_type": "code",
   "execution_count": null,
   "metadata": {
    "tags": []
   },
   "outputs": [],
   "source": [
    "NN3Opt = NN3Opt()\n",
    "t.solve(NN3Opt)\n",
    "t.plotSolution('NN3Opt')\n",
    "print('NN3Opt cost: ', t.getCost('NN3Opt'))"
   ]
  },
  {
   "cell_type": "markdown",
   "metadata": {},
   "source": [
    "## Randomized Nearest Neighbour + 3-opt"
   ]
  },
  {
   "cell_type": "code",
   "execution_count": null,
   "metadata": {
    "tags": []
   },
   "outputs": [],
   "source": [
    "RNN3Opt = RNN3Opt()\n",
    "t.solve(RNN3Opt)\n",
    "t.plotSolution('RNN3Opt')\n",
    "print('RNN3Opt cost: ', t.getCost('RNN3Opt'))"
   ]
  },
  {
   "cell_type": "code",
   "execution_count": null,
   "metadata": {
    "tags": []
   },
   "outputs": [],
   "source": [
    "t.printResults()"
   ]
  },
  {
   "cell_type": "code",
   "execution_count": null,
   "metadata": {},
   "outputs": [],
   "source": []
  }
 ],
 "metadata": {
  "language_info": {
   "codemirror_mode": {
    "name": "ipython",
    "version": 3
   },
   "file_extension": ".py",
   "mimetype": "text/x-python",
   "name": "python",
   "nbconvert_exporter": "python",
   "pygments_lexer": "ipython3",
   "version": "3.7.6-final"
  },
  "orig_nbformat": 2,
  "kernelspec": {
   "name": "python3",
   "display_name": "Python 3"
  }
 },
 "nbformat": 4,
 "nbformat_minor": 2
}